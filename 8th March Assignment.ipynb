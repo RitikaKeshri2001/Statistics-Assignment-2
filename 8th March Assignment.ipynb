{
 "cells": [
  {
   "cell_type": "markdown",
   "id": "3b6e913b-b4f5-4e29-af55-34b8b28d8482",
   "metadata": {},
   "source": [
    "Q1. What is the Probability density function?\n",
    "\n",
    "    In probabiltiy theory, a probability density function(PDF), or density of a \n",
    "    continuous random variable, is a function whose value at any given sample in \n",
    "    the sample space (the set of possible taken by the random variable) can be \n",
    "    interpreted as providing a relative likelihood that the value of the random \n",
    "    variable that the value of the random variable would be equal to that sample.\n",
    "    The Probability Density Function (PDF) is a mathematical function that describes \n",
    "    the probability distribution of a random variable. In other words, it is a \n",
    "    function that shows the likelihood of a variable taking on different values.\n",
    "\n",
    "    The PDF is used to specify the probability of the random variable falling within\n",
    "    a particular range of values, as opposed to taking on any one value. This \n",
    "    probability is given by the integral of this variable's PDF over that range—that \n",
    "    is, it is given by the area under the density function but above the horizontal \n",
    "    axis and between the lowest and greatest values of the range. The probability \n",
    "    density function is nonnegative everywhere, and the area under the entire curve \n",
    "    is equal to 1."
   ]
  },
  {
   "cell_type": "markdown",
   "id": "0deacf81-4890-424b-9984-7a4260bd9749",
   "metadata": {},
   "source": [
    "Q2. What are the types of Probability distribution?\n",
    "\n",
    "    Types of Probability distribution are :\n",
    "    Discrete Probability Distribution: Discrete Probability Distribution: This type of \n",
    "        distribution describes the probability of discrete values that a random variable \n",
    "        can take. Examples of discrete probability distributions include the binomial \n",
    "        distribution, Poisson distribution, and geometric distribution.\n",
    "\n",
    "    Continuous Probability Distribution: This type of distribution describes the probability \n",
    "        of continuous values that a random variable can take. Examples of continuous probability \n",
    "        distributions include the normal distribution, exponential distribution, and beta \n",
    "        distribution.\n",
    "\n",
    "    1. Normal/Gaussian distribution : It is a type of continuous probability distribution\n",
    "        for a real-valued random variable.\n",
    "    2. Bernoulli distribution : This is a special case of the binomial distribution, \n",
    "        where the random variable can only take two possible values.\n",
    "    3. Uniform Distribution : This type of distribution occurs when all values in a given \n",
    "        range are equally likely to occur. The uniform distribution is a continuous \n",
    "        probability distribution.\n",
    "    4. Poisson Distribution : Describes the number of events occuring in a fixed time \n",
    "        interval. Contains Discrete random variable(pmf).\n",
    "    5. Log Normal Distribution : This is a continuous probability distribution that is \n",
    "        used to model data that is positive and skewed to the right, meaning the most \n",
    "        of the observations are concentrated on the lower end of the scale. The distribution\n",
    "        called log-normal because it is the result of taking the logarithm of a normal\n",
    "        distribution.\n",
    "    6. Binomial Distribution : This is type of distribution in which experiments are \n",
    "        performed for n trials. Outcomes of every experiment is binary. Contains Discrete\n",
    "        random variable. Denoted by B(n, p) n∈{1,2,3, ...} no. of trials,\n",
    "                                            p∈[0, 1] success probability of every trial"
   ]
  },
  {
   "cell_type": "markdown",
   "id": "8187821a-4e44-4943-b316-67f034eb6cf1",
   "metadata": {},
   "source": [
    "Q3. Write a Python function to calculate the probability density function of a normal distribution with\n",
    "given mean and standard deviation at a given point."
   ]
  },
  {
   "cell_type": "code",
   "execution_count": 1,
   "id": "da22cd6b-34af-4ec3-ae6d-64323a250648",
   "metadata": {},
   "outputs": [],
   "source": [
    "import math\n",
    "\n",
    "def normal_pdf(mu, sigma, x):\n",
    "    coeff = 1 / (sigma * math.sqrt(2*math.pi))\n",
    "    exponent = -((x-mu)**2) / (2 * sigma**2)\n",
    "    pdf = coeff * math.exp(exponent)\n",
    "    return pdf"
   ]
  },
  {
   "cell_type": "markdown",
   "id": "b021ad46-6d6b-452f-9d63-1ac341957350",
   "metadata": {},
   "source": [
    "Q4. What are the properties of Binomial distribution? Give two examples of events where binomial\n",
    "distribution can be applied.\n",
    "\n",
    "    The binomial distribution is a descrete probability distribution that describes the \n",
    "    number of successes in a fixed number of independent Bernoulli trials, wehre each\n",
    "    trial can only have two possible outcomes and probability of success remains constant\n",
    "    across all trials.\n",
    "\n",
    "    Properties of Binomial distribution are:\n",
    "    1. The distribution is discrete. Contains discrete random variable.\n",
    "    2. The distribution is characterized by two parameters: n and p, where n is the \n",
    "        number of trials and p is the probability of success in each trial.\n",
    "    3. The probability of k successes in n trials is given by the binomial probability\n",
    "        mass function(pmf).\n",
    "    4. The mean of binomial distribution is μ = np, variance is σ^2 = np(1-p).\n",
    "    5. The binomial distribution is symmetric.\n",
    "    6. The cumulative distribution function (CDF) of the binomial distribution gives the \n",
    "        probability of observing k or fewer successes in n trials.\n",
    "    7. The binomial distribution approaches a normal distribution."
   ]
  },
  {
   "cell_type": "markdown",
   "id": "73df1071-39fd-42ce-8c3c-d0365b3ffd50",
   "metadata": {},
   "source": [
    "Q5. Generate a random sample of size 1000 from a binomial distribution with probability of success 0.4\n",
    "and plot a histogram of the results using matplotlib."
   ]
  },
  {
   "cell_type": "code",
   "execution_count": 2,
   "id": "18837de3-fdd1-44da-a879-47c08c4cf4ba",
   "metadata": {},
   "outputs": [
    {
     "data": {
      "image/png": "[encoded data removed]",
      "text/plain": [
       "<Figure size 640x480 with 1 Axes>"
      ]
     },
     "metadata": {},
     "output_type": "display_data"
    }
   ],
   "source": [
    "import numpy as np\n",
    "import matplotlib.pyplot as plt\n",
    "\n",
    "# set the random seed for reproducibility\n",
    "np.random.seed(42)\n",
    "\n",
    "# generate a random sample of size 1000 from a binomial distribution with n=1 and p=0.4\n",
    "data = np.random.binomial(n=1, p=0.4, size=1000)\n",
    "\n",
    "# plot a histogram of the sample\n",
    "plt.hist(data, bins=2, edgecolor='black')\n",
    "plt.xlabel('Number of successes')\n",
    "plt.ylabel('Frequency')\n",
    "plt.title('Histogram of a binomial distribution with p=0.4')\n",
    "plt.show()"
   ]
  },
  {
   "cell_type": "markdown",
   "id": "ecb4ce1b-cc66-4dd3-ae32-a1e97f5dcabe",
   "metadata": {},
   "source": [
    "Q6. Write a Python function to calculate the cumulative distribution function of a Poisson distribution\n",
    "with given mean at a given point."
   ]
  },
  {
   "cell_type": "code",
   "execution_count": 3,
   "id": "5e887b59-40cb-4b79-8f53-f4a03770b743",
   "metadata": {},
   "outputs": [],
   "source": [
    "import math\n",
    "\n",
    "def poisson_cdf(mean, x):\n",
    "    cdf = 0\n",
    "    for i in range(x+1):\n",
    "        cdf += math.exp(-mean) * (mean ** i) / math.factorial(i)\n",
    "    return cdf"
   ]
  },
  {
   "cell_type": "markdown",
   "id": "da9858f2-b89f-4632-9802-2eccbe6bc6e8",
   "metadata": {},
   "source": [
    "Q7. How Binomial distribution different from Poisson distribution?\n",
    "\n",
    "    Difference between Binomial and Poisson Distribution are:\n",
    "\n",
    "        Binomial Distribution                    Poisson Distribution\n",
    "                                    1.Number of trials\n",
    "    The Binomial distribution is used when      The Poisson distribution is used to \n",
    "    there are a fixed number of independent     model the number of events that occur \n",
    "    trials, each with two possible outcomes.    in a fixed interval of time or space.\n",
    "                                                where the events are rare and occur \n",
    "                                                independently of each other.\n",
    "\n",
    "                                    2. Probability of success\n",
    "    The probability of success remains          The probability of an event occurring in \n",
    "    constant across all trials.                 a fixed interval is proportional to the \n",
    "                                                length of the interval.\n",
    "\n",
    "                                    3.Mean and Variance:\n",
    "    The mean is given by μ = np  and the        The mean and variance are both equal to λ,\n",
    "    variance is given by σ^2 = np(1-p)          which is the rate parameter.\n",
    "\n",
    "                                    4.Shape:\n",
    "    The Binomial distribution is a discrete     The Poisson distribution is a continuous \n",
    "    distribution.                               distribution.\n"
   ]
  },
  {
   "cell_type": "markdown",
   "id": "0f73d17f-ef16-4ef0-b5c9-f08902455e1d",
   "metadata": {},
   "source": [
    "Q8. Generate a random sample of size 1000 from a Poisson distribution with mean 5 and calculate the\n",
    "sample mean and variance."
   ]
  },
  {
   "cell_type": "code",
   "execution_count": 4,
   "id": "8c5462d7-77ed-45e0-97bb-72cf9f55fad7",
   "metadata": {},
   "outputs": [
    {
     "name": "stdout",
     "output_type": "stream",
     "text": [
      "Sample mean: 4.985\n",
      "Sample variance: 4.9967749999999995\n"
     ]
    }
   ],
   "source": [
    "import numpy as np\n",
    "\n",
    "# Set the random seed for reproducibility\n",
    "np.random.seed(42)\n",
    "\n",
    "# Generate the random sample\n",
    "data = np.random.poisson(lam = 5, size=1000)\n",
    "\n",
    "# Calculate the sample mean and variance\n",
    "mean = np.mean(data)\n",
    "var = np.var(data)\n",
    "\n",
    "print(\"Sample mean:\", mean)\n",
    "print(\"Sample variance:\", var)"
   ]
  },
  {
   "cell_type": "markdown",
   "id": "a2dae793-94a5-4290-91bf-a55264ef7fb1",
   "metadata": {},
   "source": [
    "Q9. How mean and variance are related in Binomial distribution and Poisson distribution?\n",
    "\n",
    "    The mean and variance are related in Binomial distribution and Poisson distribution is\n",
    "    as follow:\n",
    "    1. Binomial Distribution: \n",
    "        The mean of a Binomial distribution is given by μ = np, where n is the number of \n",
    "        trials and p is the probability of success in each trial. The variance of a Binomial \n",
    "        distribution is given by σ^2 = np(1-p).\n",
    "\n",
    "        Therefore, the variance of a Binomial distribution is directly proportional to the \n",
    "        mean and the product of (1-p), the probability of failure in each trial. As the \n",
    "        probability of success in each trial approaches 0 or 1, the variance of the Binomial \n",
    "        distribution approaches 0, and the distribution becomes more and more concentrated \n",
    "        around its mean.\n",
    "    \n",
    "    2. Poisson Distribution: \n",
    "        The mean of a Poisson distribution is given by μ = λ, where λ is the rate parameter, \n",
    "        which represents the average number of events that occur in a fixed interval of time \n",
    "        or space. The variance of a Poisson distribution is also given by σ^2 = λ.\n",
    "\n",
    "        Therefore, in the Poisson distribution, the variance is equal to the mean, regardless \n",
    "        of the value of the rate parameter λ. This means that as the mean of the Poisson \n",
    "        distribution increases, so does the variance, but at the same rate, such that the \n",
    "        coefficient of variation (standard deviation/mean) remains constant."
   ]
  },
  {
   "cell_type": "markdown",
   "id": "3f605365-2c24-4246-a411-e508e908fd98",
   "metadata": {},
   "source": [
    "Q10. In normal distribution with respect to mean position, where does the least frequent data appear?\n",
    "\n",
    "    In a normal distribution, the least frequent data appears in the tails of the \n",
    "    distribution, which are the regions farthest away from the mean. Specifically, \n",
    "    the least frequent data appears in the tails that are beyond two standard deviations \n",
    "    from the mean, which make up approximately 5% of the data in a normal distribution."
   ]
  }
 ],
 "metadata": {
  "kernelspec": {
   "display_name": "Python 3 (ipykernel)",
   "language": "python",
   "name": "python3"
  },
  "language_info": {
   "codemirror_mode": {
    "name": "ipython",
    "version": 3
   },
   "file_extension": ".py",
   "mimetype": "text/x-python",
   "name": "python",
   "nbconvert_exporter": "python",
   "pygments_lexer": "ipython3",
   "version": "3.10.8"
  }
 },
 "nbformat": 4,
 "nbformat_minor": 5
}
