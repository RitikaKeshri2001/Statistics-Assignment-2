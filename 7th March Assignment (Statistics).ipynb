{
 "cells": [
  {
   "cell_type": "markdown",
   "id": "f3fc4a78-6641-45cc-84e5-0e602e4c630c",
   "metadata": {},
   "source": [
    "Q1. What are the three measures of central tendency?\n",
    "\n",
    "    Three measures of central tendency are: \n",
    "    1. Mean: The mean represents the average value of the dataset. It can be calculated \n",
    "        as the sum of all the values in the dataset divided by the number of values.\n",
    "\n",
    "    2. Median: Median is the middle value of the dataset in which the dataset is arranged \n",
    "        in the ascending order or in descending order. When the dataset contains an even \n",
    "        number of values, then the median value of the dataset can be found by taking the \n",
    "        mean of the middle two values.\n",
    "\n",
    "    3. Mode: The mode represents the frequently occurring value in the dataset. Sometimes \n",
    "        the dataset may contain multiple modes and in some cases, it does not contain any \n",
    "        mode at all."
   ]
  },
  {
   "cell_type": "markdown",
   "id": "c73f987c-4ead-4b67-b591-80ff3a8759fa",
   "metadata": {},
   "source": [
    "Q2. What is the difference between the mean, median, and mode? How are they used to measure the\n",
    "central tendency of a dataset?\n",
    "\n",
    "    Difference between mean, median and mode are:\n",
    "\n",
    "        Mean                    Median                  Mode\n",
    "    The average taken for   The middle value in      The number that occurs the most \n",
    "    a set of numbers is     the data set is called   in a given list of numbers is \n",
    "    called a mean.          the Median.              called a mode.\n",
    "\n",
    "    Add up all the          Place all the numbers    The mode is derived when\n",
    "    numbers and divide      in ascending or          a number has frequency \n",
    "    by the total number     descending order.        occurred in a series.\n",
    "    of terms.\n",
    "\n",
    "    Once the above step     After arranging every-   The mode can be one or \n",
    "    is finished, what       thing from smallest to   more than one. It is \n",
    "    we get is the mean.     biggest, take out the    possible to have no mode \n",
    "                            middle number, which     at all , as well.\n",
    "                            is your mean.\n",
    "\n",
    "    Mean is the arithmetic  When series have even    If there is a unique data\n",
    "    mean or in a  simple    numbers, median is the   set, there is no mode\n",
    "    way can be a simple     simple average of the    at all.\n",
    "    average or weighted     middle pair of numbers. \n",
    "    average. \n",
    "\n",
    "    When data is normally   When data distribution    When there is a nominal\n",
    "    distributed, the mean   s skewed, median is       distribution of data, the\n",
    "    is widely preferred.    the best representative.   mode is preferred.\n",
    "\n",
    "\n",
    "    They are used to measure central tendency are :\n",
    "    1. Mean: The mean is used to measure the central tendency when the data is normally \n",
    "        distributed and there are no outliers in the data. For example, it can be used \n",
    "        to calculate the average score of a group of students in a test.\n",
    "    \n",
    "    2. Median: The median is used to measure the central tendency when there are outliers \n",
    "        in the data. For example, it can be used to find the typical salary of employees \n",
    "        in a company when there are a few employees with extremely high or low salaries. \n",
    "\n",
    "    3. Mode: The mode is used to measure the central tendency when the data is categorical \n",
    "        or discrete. For example, it can be used to find the most common color of a set of \n",
    "        flowers."
   ]
  },
  {
   "cell_type": "markdown",
   "id": "71f00b0d-7b6c-48b2-b955-e9445772929b",
   "metadata": {},
   "source": [
    "Q3. Measure the three measures of central tendency for the given height data:\n",
    "[178,177,176,177,178.2,178,175,179,180,175,178.9,176.2,177,172.5,178,176.5]"
   ]
  },
  {
   "cell_type": "code",
   "execution_count": 1,
   "id": "c73b7fbd-96bf-426b-b383-da4c8bb822dd",
   "metadata": {},
   "outputs": [
    {
     "name": "stdout",
     "output_type": "stream",
     "text": [
      "Mean  177.01875\n",
      "Median  177.0\n",
      "Mode  ModeResult(mode=array([177.]), count=array([3]))\n"
     ]
    },
    {
     "name": "stderr",
     "output_type": "stream",
     "text": [
      "/tmp/ipykernel_70/2487406816.py:6: FutureWarning: Unlike other reduction functions (e.g. `skew`, `kurtosis`), the default behavior of `mode` typically preserves the axis it acts along. In SciPy 1.11.0, this behavior will change: the default value of `keepdims` will become False, the `axis` over which the statistic is taken will be eliminated, and the value None will no longer be accepted. Set `keepdims` to True or False to avoid this warning.\n",
      "  mode = stats.mode(data)\n"
     ]
    }
   ],
   "source": [
    "import numpy as np\n",
    "from scipy import stats\n",
    "data = [178,177,176,177,178.2,178,175,179,180,175,178.9,176.2,177,172.5,178,176.5]\n",
    "mean = np.mean(data)\n",
    "median = np.median(data)\n",
    "mode = stats.mode(data)\n",
    "print(\"Mean \", mean)\n",
    "print(\"Median \", median)\n",
    "print(\"Mode \", mode)"
   ]
  },
  {
   "cell_type": "markdown",
   "id": "51911631-4722-46b7-920f-3df124e50b51",
   "metadata": {},
   "source": [
    "Q4. Find the standard deviation for the given data:\n",
    "[178,177,176,177,178.2,178,175,179,180,175,178.9,176.2,177,172.5,178,176.5]"
   ]
  },
  {
   "cell_type": "code",
   "execution_count": 2,
   "id": "47436f87-7b00-4dd3-adb3-2e30cd834064",
   "metadata": {},
   "outputs": [
    {
     "name": "stdout",
     "output_type": "stream",
     "text": [
      "Standard deviation  1.7885814036548633\n"
     ]
    }
   ],
   "source": [
    "import numpy as np\n",
    "data = [178,177,176,177,178.2,178,175,179,180,175,178.9,176.2,177,172.5,178,176.5]\n",
    "std = np.std(data)\n",
    "print(\"Standard deviation \", std)"
   ]
  },
  {
   "cell_type": "markdown",
   "id": "e3d526e9-ebf5-4484-84d9-ac87450a5f69",
   "metadata": {},
   "source": [
    "Q5. How are measures of dispersion such as range, variance, and standard deviation used to describe\n",
    "the spread of a dataset? Provide an example.\n",
    "\n",
    "    Range: The range is the difference between the largest and smallest values in a dataset. It \n",
    "        gives an idea of the total spread of the data. For example, if we have a dataset of salaries \n",
    "        of employees in a company, the range can help us understand the difference between the \n",
    "        lowest and highest salary.\n",
    "\n",
    "    Variance: The variance is the average of the squared differences of each data point from the \n",
    "        mean. It gives an idea of how spread out the data is from the mean. For example, if we have \n",
    "        a dataset of the ages of people in a city, the variance can help us understand how spread \n",
    "        out the ages are from the average age.\n",
    "\n",
    "    Standard deviation: The standard deviation is the square root of the variance. It gives an idea \n",
    "        of how spread out the data is from the mean in the same units as the data. For example, if \n",
    "        we have a dataset of the heights of people in a class, the standard deviation can help us \n",
    "        understand how far the heights are from the average height in centimeters."
   ]
  },
  {
   "cell_type": "markdown",
   "id": "070916f2-f7c3-4f91-bda7-6911a6c66b26",
   "metadata": {},
   "source": [
    "Q6. What is a Venn diagram?\n",
    "\n",
    "    A Venn diagram is a widely used diagram style that shows the logical relation between sets.\n",
    "    A Venn diagram is a graphical representation of sets or groups of data. It consists of one \n",
    "    or more overlapping circles, where each circle represents a set, and the overlapping regions \n",
    "    represent the intersection of two or more sets.\n",
    "    A Venn diagram may also be called a set diagram or logic diagram. It is a diagram that shows \n",
    "    all possible logical relations between a finite collection of different sets. "
   ]
  },
  {
   "cell_type": "markdown",
   "id": "0d3541a4-18c4-41c1-8e31-e0685f45453c",
   "metadata": {},
   "source": [
    "Q7. For the two given sets A = (2,3,4,5,6,7) & B = (0,2,6,8,10). Find:\n",
    "\n",
    "(i) A ⋂ B\n",
    "(ii) A ⋃ B"
   ]
  },
  {
   "cell_type": "code",
   "execution_count": 3,
   "id": "30248fb8-8908-4db8-8ba8-b29e69fcb2e7",
   "metadata": {},
   "outputs": [
    {
     "name": "stdout",
     "output_type": "stream",
     "text": [
      "Union of two sets:  {0, 2, 3, 4, 5, 6, 7, 8, 10}\n",
      "Intersection of two sets:  {2, 6}\n"
     ]
    }
   ],
   "source": [
    "A = {2,3,4,5,6,7}\n",
    "B = {0,2,6,8,10}\n",
    "union = A.union(B)\n",
    "intersection = A.intersection(B)\n",
    "print(\"Union of two sets: \", union)\n",
    "print(\"Intersection of two sets: \", intersection)"
   ]
  },
  {
   "cell_type": "markdown",
   "id": "0229598c-80f2-49eb-b5ab-6e5e1c63f61c",
   "metadata": {},
   "source": [
    "Q8. What do you understand about skewness in data?\n",
    "\n",
    "    Skewness is a measurement of the distortion of symmetrical distribution or asymmetry \n",
    "    in a data set. Skewness is a measure of the degree of asymmetry in a distribution of data. \n",
    "    If a distribution is symmetrical, then it has zero skewness. If the distribution is skewed \n",
    "    to the left (i.e., has a longer tail on the left side), then it has negative skewness. \n",
    "    If the distribution is skewed to the right (i.e., has a longer tail on the right side), \n",
    "    then it has positive skewness.  \n",
    "    Skewness is important to consider when analyzing data because it can affect the interpretation \n",
    "    of statistical analyses. Skewed data can also affect the accuracy of certain statistical tests, \n",
    "    such as the mean and standard deviation."
   ]
  },
  {
   "cell_type": "markdown",
   "id": "97aa9161-72f4-4702-8baa-be06e3147901",
   "metadata": {},
   "source": [
    "Q9. If a data is right skewed then what will be the position of median with respect to mean?\n",
    "\n",
    "    If a data is right-skewed, then the median will be smaller than the mean. "
   ]
  },
  {
   "cell_type": "markdown",
   "id": "4f07eea7-71ea-4a1c-a5c0-064c6a158824",
   "metadata": {},
   "source": [
    "Q10. Explain the difference between covariance and correlation. How are these measures used in\n",
    "statistical analysis?\n",
    "\n",
    "    Covariance and correlation are two terms that are opposed and are both used in \n",
    "    statistics and regression analysis. Covariance shows us how the two variables \n",
    "    differ, whereas correlation shows you how the two variables are related. \n",
    "    \n",
    "    Difference between covariance and correlation are:\n",
    "\n",
    "            covariance                           correlation\n",
    "                                    1.Meaning\n",
    "    Covariance is an indicator of how       Correlation indicates how strongly\n",
    "    two random variables are dependent      these two variables are related, \n",
    "    on each other. A higher number          provided other conditions are constant.\n",
    "    denotes higher dependency.              \n",
    "\n",
    "                                    2. Values\n",
    "    The values of covariance lies in       Correlation is limited to values between\n",
    "    the range of -∞ and +∞.                the range -1 and +1.\n",
    "\n",
    "                                3. Scalability\n",
    "    Covariance is affected.                 Correlation is not affected by a change\n",
    "                                            in scales or multiplication by a constant.\n",
    "    \n",
    "                                    4. Units\n",
    "    Covariance has a definite unit as       Correlation is a unitless absolute\n",
    "    deduced by the mulitplication of two    number between -1 and +1, including\n",
    "    numbers and their units.                decimal values."
   ]
  },
  {
   "cell_type": "markdown",
   "id": "ea9e8801-612e-4141-a49c-0add845caa78",
   "metadata": {},
   "source": [
    "Q11. What is the formula for calculating the sample mean? Provide an example calculation for a\n",
    "dataset.\n",
    "\n",
    "    Formula of sample mean is:\n",
    "    sample mean = (sum of all values in the sample) / (number of values in the sample)\n",
    "                = (Σ xi) / n\n",
    "\n",
    "    Example :\n",
    "    let consider dataset {5,7,3,9,2}\n",
    "    To calculate the sample mean, we would first add up all the values.\n",
    "        5+7+3+9+2 = 26\n",
    "    Then, we would divide by the total number of values, which is 5:\n",
    "        26 / 5 = 5.2\n",
    "    Therefore, the sample mean for this dataset is 5.2."
   ]
  },
  {
   "cell_type": "markdown",
   "id": "36f86664-c6a6-48eb-a345-16c6a2e1c97d",
   "metadata": {},
   "source": [
    "Q12. For a normal distribution data what is the relationship between its measure of central tendency?\n",
    "\n",
    "    For a normal distribution, the three main measures of central tendency - the mean, \n",
    "    median, and mode - are equal to each other. This means that the peak of the \n",
    "    distribution (the mode), the midpoint of the distribution (the median), and the \n",
    "    arithmetic average of all the values in the distribution (the mean) are all \n",
    "    located at the same point."
   ]
  },
  {
   "cell_type": "markdown",
   "id": "ca5bb8f2-3fa4-4758-8a03-18c7eb9e997f",
   "metadata": {},
   "source": [
    "Q13. How is covariance different from correlation?\n",
    "\n",
    "    Covariance and correlation are two measures used to describe the relationship \n",
    "    between two variables, but they have some key differences.\n",
    "\n",
    "    Covariance measures the extent to which two variables are related, but it \n",
    "    doesn't provide information on the strength of the relationship or whether \n",
    "    it is a positive or negative relationship. Specifically, covariance measures \n",
    "    how much two variables change together. It can be positive, negative, or zero, \n",
    "    depending on whether the variables tend to vary together in the same direction, \n",
    "    opposite direction, or if they are unrelated.\n",
    "\n",
    "    Correlation, on the other hand, measures the strength and direction of the \n",
    "    relationship between two variables. Specifically, correlation measures how \n",
    "    closely the relationship between two variables can be described by a straight \n",
    "    line. It ranges from -1 to 1, where -1 indicates a perfect negative correlation, \n",
    "    0 indicates no correlation, and 1 indicates a perfect positive correlation. \n",
    "    A positive correlation means that when one variable increases, the other variable \n",
    "    also tends to increase, while a negative correlation means that when one \n",
    "    ariable increases, the other variable tends to decrease.\n",
    "\n",
    "    The main difference between covariance and correlation is that correlation is a \n",
    "    standardized measure, which means it is adjusted for differences in the scales \n",
    "    of the variables. This makes correlation easier to interpret and compare between \n",
    "    different variables or datasets, while covariance is difficult to compare when \n",
    "    variables are measured on different scales."
   ]
  },
  {
   "cell_type": "markdown",
   "id": "7468e973-58b2-4635-a49f-6f445c0c6637",
   "metadata": {},
   "source": [
    "Q14. How do outliers affect measures of central tendency and dispersion? Provide an example.\n",
    "\n",
    "    Outliers are extreme values that are much larger or smaller than the other values\n",
    "    in a dataset. Outliers can have a significant impact on measures of central tendency \n",
    "    and dispersion, which are statistical measures used to summarize teh characteristics \n",
    "    of a dataset.\n",
    "\n",
    "    Measures of central tendency, such as the mean, median, and mode, are used to describe \n",
    "    the typical value or central value of a dataset. Outliers can affect the mean more than \n",
    "    the median, as the mean is more sensitive to extreme values. For example, consider \n",
    "    the following dataset:\n",
    "\n",
    "    1, 2, 3, 4, 100\n",
    "    The mean of this dataset is (1+2+3+4+100)/5 = 22, while the median is 3. The mean is \n",
    "    much higher than the other values in the dataset because of the outlier value of 100. \n",
    "    In this case, the mean is not a good representation of the typical value of the dataset,\n",
    "    and the median may be a better choice.\n",
    "\n",
    "    Measures of dispersion, such as the range, variance, and standard deviation, describe the\n",
    "    spread or variability of a dataset. Outliers can significantly affect the range and \n",
    "    standard diviation, as they can increase the distance between the minimum and maximum\n",
    "    values in the dataset. For example, consider the following dataset:\n",
    "\n",
    "    1, 2, 3, 4, 100\n",
    "    The range of this dataset is 100 - 1 = 99, which is much higher than the other values in \n",
    "    the dataset because of the outlier value of 100. Similarly, the standard deviation of this \n",
    "    dataset is much higher than the other values in the dataset because of the outlier value. \n",
    "    In this case, the range and standard deviation are not good measures of the variability of \n",
    "    the dataset, and alternative measures, such as the interquartile range or median absolute \n",
    "    deviation, may be more appropriate."
   ]
  }
 ],
 "metadata": {
  "kernelspec": {
   "display_name": "Python 3 (ipykernel)",
   "language": "python",
   "name": "python3"
  },
  "language_info": {
   "codemirror_mode": {
    "name": "ipython",
    "version": 3
   },
   "file_extension": ".py",
   "mimetype": "text/x-python",
   "name": "python",
   "nbconvert_exporter": "python",
   "pygments_lexer": "ipython3",
   "version": "3.10.8"
  }
 },
 "nbformat": 4,
 "nbformat_minor": 5
}
